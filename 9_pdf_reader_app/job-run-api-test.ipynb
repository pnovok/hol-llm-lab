{
 "cells": [
  {
   "cell_type": "code",
   "execution_count": null,
   "id": "93c4f212-90e5-45e9-9271-e47fe6b35753",
   "metadata": {
    "tags": []
   },
   "outputs": [],
   "source": [
    "import cdsw\n",
    "import os\n",
    "import cmlapi\n",
    "import json, requests\n",
    "import time"
   ]
  },
  {
   "cell_type": "code",
   "execution_count": null,
   "id": "ad4494e3-df1b-49aa-89e9-c4e34c71c66a",
   "metadata": {
    "tags": []
   },
   "outputs": [],
   "source": [
    "#project_name = 'olivers llm project'\n",
    "project_name ='BBH-LLM-POV'\n",
    "client = cmlapi.default_client(url=os.getenv(\"CDSW_API_URL\").replace(\"/api/v1\", \"\"), cml_api_key=os.getenv(\"CDSW_APIV2_KEY\"))"
   ]
  },
  {
   "cell_type": "code",
   "execution_count": null,
   "id": "0364e53b-af9b-4943-bc1a-f3f55d6ebfbe",
   "metadata": {
    "tags": []
   },
   "outputs": [],
   "source": [
    "client.list_project_names()"
   ]
  },
  {
   "cell_type": "code",
   "execution_count": null,
   "id": "597f0de8-0121-40b8-bcf7-5ed077bbcad1",
   "metadata": {},
   "outputs": [],
   "source": [
    "proj_id = client.list_projects()"
   ]
  },
  {
   "cell_type": "code",
   "execution_count": null,
   "id": "8e5a3e86-a713-4918-a3fd-145e17398868",
   "metadata": {},
   "outputs": [],
   "source": [
    "#proj_id"
   ]
  },
  {
   "cell_type": "code",
   "execution_count": null,
   "id": "099bc42f-b4be-4c3e-95e7-fcf490efeb7b",
   "metadata": {},
   "outputs": [],
   "source": [
    "proj_id = client.list_projects(search_filter=json.dumps({\"name\":project_name }))"
   ]
  },
  {
   "cell_type": "code",
   "execution_count": null,
   "id": "0d49cf3e-8d61-4c38-be01-f535729560df",
   "metadata": {},
   "outputs": [],
   "source": [
    "#proj_id"
   ]
  },
  {
   "cell_type": "code",
   "execution_count": null,
   "id": "8eedda0b-61b2-4439-bcfb-82155e7f4215",
   "metadata": {},
   "outputs": [],
   "source": [
    "proj_id.projects[0].id"
   ]
  },
  {
   "cell_type": "code",
   "execution_count": null,
   "id": "6edd3d0a-a614-49d8-8244-1c333fa543e5",
   "metadata": {
    "tags": []
   },
   "outputs": [],
   "source": [
    "proj_id = client.list_projects(search_filter=json.dumps({\"name\":project_name })).projects[0].id"
   ]
  },
  {
   "cell_type": "markdown",
   "id": "78d3f8d6",
   "metadata": {},
   "source": [
    "#### Running Chroma Job"
   ]
  },
  {
   "cell_type": "code",
   "execution_count": null,
   "id": "121cf10f-748f-4578-a036-c237fd63fed7",
   "metadata": {},
   "outputs": [],
   "source": [
    "chroma_job_name = 'Populate Chroma Vector DB'\n",
    "chroma_target_job = client.list_jobs(proj_id, search_filter=json.dumps({\"name\": chroma_job_name}))"
   ]
  },
  {
   "cell_type": "code",
   "execution_count": null,
   "id": "5e46d705-5d61-4f21-a846-47e8dd970e26",
   "metadata": {},
   "outputs": [],
   "source": [
    "job_run = client.create_job_run(cmlapi.CreateJobRunRequest(),project_id = proj_id, job_id = chroma_target_job.jobs[0].id)"
   ]
  },
  {
   "cell_type": "markdown",
   "id": "a724f5ca-b578-44ae-90ff-f5cb98115d45",
   "metadata": {},
   "source": [
    "#### Running Populate Pinecone DB job"
   ]
  },
  {
   "cell_type": "code",
   "execution_count": null,
   "id": "edd7328c-3799-43d9-8952-60e3aa9e2877",
   "metadata": {},
   "outputs": [],
   "source": [
    "pinecone_job_name= 'populate pinecone'\n",
    "pinecone_target_job = client.list_jobs(proj_id, search_filter=json.dumps({\"name\": pinecone_job_name}))"
   ]
  },
  {
   "cell_type": "code",
   "execution_count": null,
   "id": "9403b404-5f94-4c97-9683-f3595f4d34d9",
   "metadata": {},
   "outputs": [],
   "source": [
    "job_run = client.create_job_run(cmlapi.CreateJobRunRequest(),project_id = proj_id, job_id = pinecone_target_job.jobs[0].id)"
   ]
  },
  {
   "cell_type": "markdown",
   "id": "22dfefe8",
   "metadata": {},
   "source": [
    "#### List Job Runs"
   ]
  },
  {
   "cell_type": "markdown",
   "id": "51171d5d-9df2-43d7-b8e4-5355e5443277",
   "metadata": {},
   "source": [
    "#### Run pdf reader then db loads"
   ]
  },
  {
   "cell_type": "code",
   "execution_count": null,
   "id": "cd6a9276-c2b5-400a-a14e-546446d0c4e2",
   "metadata": {},
   "outputs": [],
   "source": [
    "pdf_reader_job_name = 'pdf_reader'\n",
    "pdf_reader_target_job = client.list_jobs(proj_id, search_filter=json.dumps({\"name\": pdf_reader_job_name}))"
   ]
  },
  {
   "cell_type": "code",
   "execution_count": null,
   "id": "54f1ca7f",
   "metadata": {},
   "outputs": [],
   "source": [
    "job_run = client.create_job_run(cmlapi.CreateJobRunRequest(),project_id = proj_id, job_id = pdf_reader_target_job.jobs[0].id)"
   ]
  },
  {
   "cell_type": "code",
   "execution_count": null,
   "id": "5777b515",
   "metadata": {},
   "outputs": [],
   "source": [
    "listed_jobs = client.list_job_runs(project_id=proj_id, job_id = pdf_reader_target_job.jobs[0].id)"
   ]
  },
  {
   "cell_type": "code",
   "execution_count": null,
   "id": "f5108458-4558-48f4-8fd5-ed29d01a9aa7",
   "metadata": {},
   "outputs": [],
   "source": [
    "job_status = ''\n",
    "while job_status != 'ENGINE_SUCCEEDED' and job_status != 'ENGINE_FAILED' :\n",
    "    listed_jobs = client.list_job_runs(project_id=proj_id, job_id = pdf_reader_target_job.jobs[0].id)\n",
    "    job_status = listed_jobs.job_runs[-1].status\n",
    "    print('job status is', job_status)\n",
    "    time.sleep(5)\n",
    "print('job done')"
   ]
  },
  {
   "cell_type": "markdown",
   "id": "034aab03-28ad-4777-836b-9835f8b91a7b",
   "metadata": {},
   "source": [
    "#### Try jobs in succession"
   ]
  },
  {
   "cell_type": "code",
   "execution_count": null,
   "id": "7790ec87-fbc5-4e4d-bedb-cf6230b34266",
   "metadata": {
    "tags": []
   },
   "outputs": [],
   "source": [
    "job_chain = ['pdf_reader', 'Populate Chroma Vector DB', 'populate pinecone']\n",
    "    \n",
    "for job in job_chain:\n",
    "    print(f'running {job}')\n",
    "    if job == 'pdf_reader':\n",
    "        target_job = client.list_jobs(proj_id, search_filter=json.dumps({\"name\": job}))\n",
    "        print('job running is', job)\n",
    "        print('target_job is',target_job)\n",
    "        print('target_job.jobs',target_job.jobs)\n",
    "        print('type of target_job.jobs',type(target_job.jobs))\n",
    "        job_run = client.create_job_run(cmlapi.CreateJobRunRequest(),project_id = proj_id, job_id = target_job.jobs[0].id)\n",
    "        job_status = ''\n",
    "\n",
    "        \n",
    "        while job_status != 'ENGINE_SUCCEEDED':\n",
    "            # api forcing 50 job runs to show up per page. \n",
    "            # after 50 job runs, this will not work\n",
    "            listed_jobs = client.list_job_runs(project_id=proj_id, job_id=target_job.jobs[0].id, page_size=50)\n",
    "            job_status = listed_jobs.job_runs[-1].status\n",
    "\n",
    "            if job_status == 'ENGINE_FAILED':\n",
    "                print(f'{job} has failed.')\n",
    "                raise RuntimeError(f\"Job {job} failed. Halting the job chain.\")\n",
    "                \n",
    "            # Update the user that the job is still processing\n",
    "            #result_messages.append(f\"{job} is still processing... Please wait.\")\n",
    "            time.sleep(5)\n",
    "    else:\n",
    "        target_job = client.list_jobs(proj_id, search_filter=json.dumps({\"name\": job}))\n",
    "        job_run = client.create_job_run(cmlapi.CreateJobRunRequest(),project_id = proj_id, job_id = target_job.jobs[0].id)\n",
    "\n",
    "    print(f'{job} is completed')"
   ]
  },
  {
   "cell_type": "code",
   "execution_count": null,
   "id": "8fbef1bf-9aa3-420c-9bcc-ce562706dfec",
   "metadata": {
    "tags": []
   },
   "outputs": [],
   "source": [
    "# job_chain = ['pdf_reader','Populate Chroma Vector DB','populate pinecone']\n",
    "\n",
    "# for job in job_chain:\n",
    "#     print(f'running {job}')\n",
    "#     if job == 'pdf_reader':\n",
    "#         target_job = client.list_jobs(proj_id, search_filter=json.dumps({\"name\": job}))\n",
    "#         job_run = client.create_job_run(cmlapi.CreateJobRunRequest(),project_id = proj_id, job_id = target_job.jobs[0].id)\n",
    "#         job_status = ''\n",
    "#         while job_status != 'ENGINE_SUCCEEDED':\n",
    "#             listed_jobs = client.list_job_runs(project_id=proj_id, job_id=target_job.jobs[0].id)\n",
    "#             job_status = listed_jobs.job_runs[-1].status\n",
    "            \n",
    "#             if job_status == 'ENGINE_FAILED':\n",
    "#                 print(f'{job} has failed.')\n",
    "#                 raise RuntimeError(f\"Job {job} failed. Halting the job chain.\")\n",
    "            \n",
    "#             time.sleep(5)\n",
    "#     else:\n",
    "#         target_job = client.list_jobs(proj_id, search_filter=json.dumps({\"name\": job}))\n",
    "#         job_run = client.create_job_run(cmlapi.CreateJobRunRequest(),project_id = proj_id, job_id = target_job.jobs[0].id)\n",
    "\n",
    "#     print(f'{job} is completed')"
   ]
  },
  {
   "cell_type": "code",
   "execution_count": null,
   "id": "62df86ce-a0de-4642-bcf3-50412ecd84d2",
   "metadata": {
    "tags": []
   },
   "outputs": [],
   "source": [
    "job_chain = ['pdf_reader','Populate Chroma Vector DB','populate pinecone']"
   ]
  },
  {
   "cell_type": "code",
   "execution_count": null,
   "id": "d3c480ec-e438-4f01-ad8e-4a14ced603fe",
   "metadata": {
    "tags": []
   },
   "outputs": [],
   "source": [
    "job_chain[0]"
   ]
  },
  {
   "cell_type": "code",
   "execution_count": null,
   "id": "88caa3fc-9f65-4563-8d89-44d078b4590f",
   "metadata": {
    "tags": []
   },
   "outputs": [],
   "source": [
    "target_job = client.list_jobs(proj_id, search_filter=json.dumps({\"name\": job_chain[0]}))"
   ]
  },
  {
   "cell_type": "code",
   "execution_count": null,
   "id": "84d8e1c9-45dd-4b9a-8813-f39aba9543e3",
   "metadata": {},
   "outputs": [],
   "source": [
    "listed_jobs_runs = client.list_job_runs(project_id=proj_id, job_id=target_job.jobs[0].id, page_size=50)"
   ]
  },
  {
   "cell_type": "code",
   "execution_count": null,
   "id": "084c642b-22e3-41a9-b259-322b14041467",
   "metadata": {
    "tags": []
   },
   "outputs": [],
   "source": [
    "listed_jobs_runs.job_runs[-1]"
   ]
  },
  {
   "cell_type": "code",
   "execution_count": null,
   "id": "001c96bd-f170-44e4-a127-3b6bf49721b5",
   "metadata": {
    "tags": []
   },
   "outputs": [],
   "source": [
    "len(listed_jobs.job_runs)"
   ]
  },
  {
   "cell_type": "code",
   "execution_count": null,
   "id": "86f70fd7-5c04-4f2c-9859-1d85e02dcf8c",
   "metadata": {},
   "outputs": [],
   "source": []
  }
 ],
 "metadata": {
  "kernelspec": {
   "display_name": "Python 3 (ipykernel)",
   "language": "python",
   "name": "python3"
  },
  "language_info": {
   "codemirror_mode": {
    "name": "ipython",
    "version": 3
   },
   "file_extension": ".py",
   "mimetype": "text/x-python",
   "name": "python",
   "nbconvert_exporter": "python",
   "pygments_lexer": "ipython3",
   "version": "3.10.13"
  }
 },
 "nbformat": 4,
 "nbformat_minor": 5
}
