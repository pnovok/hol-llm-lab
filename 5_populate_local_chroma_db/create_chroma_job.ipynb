{
 "cells": [
  {
   "cell_type": "markdown",
   "metadata": {
    "tags": []
   },
   "source": [
    "# 5. Use CML API to Define a Job Which Populates Chroma Vector DB\n",
    "In exercise 2 you went through the manual steps to create a dependent job. This exercise will do the same using CML APIv2. The benefit to using the CML API to create a job is that the user can then take a programmatic approach to creating jobs and then running them. Using the cmlapi library to create jobs is beneficial because it enables automation, version control, reproducibility, integration, scalability, error handling, and efficiency in job management, streamlining data processing workflows. \n",
    "\n",
    "![Populate Chroma architecture](../assets/exercise_5.png)"
   ]
  },
  {
   "cell_type": "markdown",
   "metadata": {},
   "source": [
    "#### 5.1 Declare imports, create CML API client, and list available runtimes\n",
    "Imports necessary modules, define a collection name, initialize a CML client, and retrieve a list of available runtimes that match specific criteria, printing the list of available runtimes."
   ]
  },
  {
   "cell_type": "code",
   "execution_count": null,
   "metadata": {
    "tags": []
   },
   "outputs": [],
   "source": [
    "import os\n",
    "import cmlapi\n",
    "import random\n",
    "import string\n",
    "import json\n",
    "\n",
    "COLLECTION_NAME = 'cml-default' ## Update if you have changed this\n",
    "    \n",
    "client = cmlapi.default_client(url=os.getenv(\"CDSW_API_URL\").replace(\"/api/v1\", \"\"), cml_api_key=os.getenv(\"CDSW_APIV2_KEY\"))\n",
    "available_runtimes = client.list_runtimes(search_filter=json.dumps({\n",
    "    \"kernel\": \"Python 3.10\",\n",
    "    \"edition\": \"Nvidia GPU\",\n",
    "    \"editor\": \"JupyterLab\"\n",
    "}))"
   ]
  },
  {
   "cell_type": "markdown",
   "metadata": {},
   "source": [
    "#### 5.2 Retrieve the latest ML Runtime Identifier and save to an environment variable"
   ]
  },
  {
   "cell_type": "code",
   "execution_count": null,
   "metadata": {
    "tags": []
   },
   "outputs": [],
   "source": [
    "## Set available runtimes to the latest runtime in the environment (iterator is the number that begins with 0 and advances sequentially)\n",
    "## The JOB_IMAGE_ML_RUNTIME variable stores the ML Runtime which will be used to launch the job\n",
    "print(available_runtimes.runtimes[0])\n",
    "print(available_runtimes.runtimes[0].image_identifier)\n",
    "JOB_IMAGE_ML_RUNTIME = available_runtimes.runtimes[0].image_identifier\n",
    "\n",
    "## Store the ML Runtime for any future jobs in an environment variable so we don't have to do this step again\n",
    "os.environ['JOB_IMAGE_ML_RUNTIME'] = JOB_IMAGE_ML_RUNTIME"
   ]
  },
  {
   "cell_type": "markdown",
   "metadata": {},
   "source": [
    "#### 5.3 Get the current working project\n",
    "Get and print the metadata of the current working project"
   ]
  },
  {
   "cell_type": "code",
   "execution_count": null,
   "metadata": {
    "tags": []
   },
   "outputs": [],
   "source": [
    "# Get the identifier of the current project\n",
    "project = client.get_project(project_id=os.getenv(\"CDSW_PROJECT_ID\"))"
   ]
  },
  {
   "cell_type": "markdown",
   "metadata": {},
   "source": [
    "#### 5.4 Create and Run Job to Populate Chroma Vector DB\n",
    "\n",
    "This code generates a random identifier, creates a job request for populating a Chroma Vector database with specified parameters such as project ID, script, and resource allocation, and then creates the job and a corresponding job run within the Cloudera Machine Learning environment, effectively initiating a task to populate the vector DB."
   ]
  },
  {
   "cell_type": "code",
   "execution_count": null,
   "metadata": {
    "tags": []
   },
   "outputs": [],
   "source": [
    "random_id=''.join(random.choice(string.ascii_lowercase) for i in range(10))\n",
    "job_body = cmlapi.CreateJobRequest(\n",
    "    project_id = project.id,\n",
    "    name = \"Populate Chroma Vector DB \" + random_id, \n",
    "    script = \"5_populate_local_chroma_db/populate_chroma_vectors.py\",\n",
    "    cpu = 1,\n",
    "    memory = 4,\n",
    "    runtime_identifier = os.getenv('JOB_IMAGE_ML_RUNTIME')\n",
    ")\n",
    "\n",
    "job_result = client.create_job(\n",
    "    body = job_body, \n",
    "    project_id = str(project.id)\n",
    ")\n",
    "\n",
    "job_run = client.create_job_run(\n",
    "    cmlapi.CreateJobRunRequest(),\n",
    "    project_id = project.id, \n",
    "    job_id = job_result.id\n",
    ")"
   ]
  },
  {
   "cell_type": "code",
   "execution_count": null,
   "metadata": {},
   "outputs": [],
   "source": []
  }
 ],
 "metadata": {
  "kernelspec": {
   "display_name": "Python 3 (ipykernel)",
   "language": "python",
   "name": "python3"
  },
  "language_info": {
   "codemirror_mode": {
    "name": "ipython",
    "version": 3
   },
   "file_extension": ".py",
   "mimetype": "text/x-python",
   "name": "python",
   "nbconvert_exporter": "python",
   "pygments_lexer": "ipython3",
   "version": "3.10.13"
  }
 },
 "nbformat": 4,
 "nbformat_minor": 4
}
