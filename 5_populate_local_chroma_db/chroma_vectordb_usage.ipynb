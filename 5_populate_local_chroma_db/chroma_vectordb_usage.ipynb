{
 "cells": [
  {
   "cell_type": "markdown",
   "id": "47c23c71",
   "metadata": {},
   "source": [
    "## Chroma Vector DB Usage\n",
    "#### Pre-requisites: User should run \"Populate Chroma Vector DB with document embeddings\" job so that Chroma has relevant embeddings before using this Notebook"
   ]
  },
  {
   "cell_type": "markdown",
   "id": "2717c30b",
   "metadata": {},
   "source": [
    "#### 5.5 Initialize persistent Chroma Vector DB connection"
   ]
  },
  {
   "cell_type": "code",
   "execution_count": null,
   "id": "b331a3ae-f63b-47c1-bfae-6e1efc5062b9",
   "metadata": {
    "tags": []
   },
   "outputs": [],
   "source": [
    "## Initialize a connection to the running Chroma DB server\n",
    "import chromadb\n",
    "import os\n",
    "\n",
    "## Use the following line to connect from within CML\n",
    "chroma_client = chromadb.PersistentClient(path=\"/home/cdsw/chroma-data\")"
   ]
  },
  {
   "cell_type": "markdown",
   "id": "fd98c00c",
   "metadata": {},
   "source": [
    "#### 5.6 Get Chroma Vector DB Collection and number of collection objects\n",
    "This code initializes a connection to Chroma DB, a database for managing and querying embeddings. It defines the embedding model to be used, specifies the name of the collection as 'cml-default', and attempts to get or create that collection with the specified embedding function. Finally, it retrieves and prints the total number of embeddings in the Chroma DB index, providing statistics on the collection."
   ]
  },
  {
   "cell_type": "code",
   "execution_count": null,
   "id": "c4b448f4-877d-4854-9c17-9247441b5b4f",
   "metadata": {
    "tags": []
   },
   "outputs": [],
   "source": [
    "from chromadb.utils import embedding_functions\n",
    "\n",
    "EMBEDDING_MODEL_REPO = \"sentence-transformers/all-mpnet-base-v2\"\n",
    "EMBEDDING_MODEL_NAME = \"all-mpnet-base-v2\"\n",
    "EMBEDDING_FUNCTION = embedding_functions.SentenceTransformerEmbeddingFunction(model_name=EMBEDDING_MODEL_NAME)\n",
    "\n",
    "COLLECTION_NAME = 'cml-default'\n",
    "\n",
    "print(\"initialising Chroma DB connection...\")\n",
    "\n",
    "print(f\"Getting '{COLLECTION_NAME}' as object...\")\n",
    "try:\n",
    "    chroma_client.get_collection(name=COLLECTION_NAME, embedding_function=EMBEDDING_FUNCTION)\n",
    "    print(\"Success\")\n",
    "    collection = chroma_client.get_collection(name=COLLECTION_NAME, embedding_function=EMBEDDING_FUNCTION)\n",
    "except:\n",
    "    print(\"Creating new collection...\")\n",
    "    collection = chroma_client.create_collection(name=COLLECTION_NAME, embedding_function=EMBEDDING_FUNCTION)\n",
    "    print(\"Success\")\n",
    "\n",
    "# Get latest statistics from index\n",
    "current_collection_stats = collection.count()\n",
    "print('Total number of embeddings in Chroma DB index is ' + str(current_collection_stats))\n"
   ]
  },
  {
   "cell_type": "markdown",
   "id": "75b86cf4",
   "metadata": {},
   "source": [
    "#### 5.7 Sample demonstration of populating a vector into Chroma given several attributes\n",
    "\n",
    "Here we add a sample document with associated metadata and a unique ID to a Chroma vector database collection for semantic search, using the specified text content, classification, and file path."
   ]
  },
  {
   "cell_type": "code",
   "execution_count": null,
   "id": "9e0835b3-87e3-4d67-abe2-6c6538f8f488",
   "metadata": {
    "tags": []
   },
   "outputs": [],
   "source": [
    "## Sample add to Chroma vector DB\n",
    "file_path = '/example/of/file/path/to/doc.txt'\n",
    "classification = \"public\"\n",
    "text = \"This is a sample document which would represent content for a semantic search.\"\n",
    "\n",
    "collection.add(\n",
    "    documents=[text],\n",
    "    metadatas=[{\"classification\": classification}],\n",
    "    ids=[file_path]\n",
    ")"
   ]
  },
  {
   "cell_type": "markdown",
   "id": "1193156d",
   "metadata": {},
   "source": [
    "#### 5.8 Sample demonstration of querying a vector in Chroma along with using metadata to reduce noise\n",
    "\n",
    "This code performs a semantic search in a Chroma vector database using sample query text and retrieves the two most similar results; metadata can be utilized to further refine search results by specifying filters based on metadata fields, allowing for more precise and context-aware queries."
   ]
  },
  {
   "cell_type": "code",
   "execution_count": null,
   "id": "a5448a26",
   "metadata": {
    "tags": []
   },
   "outputs": [],
   "source": [
    "## Query Chroma vector DB \n",
    "## This query returns the two most similar results from a semantic search\n",
    "results = collection.query(\n",
    "    query_texts=[\"What is Apache Iceberg?\"],\n",
    "    n_results=2\n",
    "    # where={\"metadata_field\": \"is_equal_to_this\"}, # optional filter\n",
    "    # where_document={\"$contains\":\"search_string\"}  # optional filter\n",
    ")\n",
    "print(results)"
   ]
  },
  {
   "cell_type": "markdown",
   "id": "eb4ac300",
   "metadata": {},
   "source": [
    "#### 5.9 Outcomes of using Chroma to map to the original file in the local file system (the complete file)\n",
    "\n",
    "This code defines a helper function load_context_chunk_from_data to retrieve the content of a knowledge base document based on its file path (ID), and then it iterates through the search results to print information about each result, including file path, classification, the snippet of the document, and the full document content loaded from the file, providing a detailed display of the search results."
   ]
  },
  {
   "cell_type": "code",
   "execution_count": null,
   "id": "c30e5a6a-265b-4fa6-ae37-f5f38fe6296c",
   "metadata": {
    "tags": []
   },
   "outputs": [],
   "source": [
    "# Helper function to return the Knowledge Base doc based on Knowledge Base ID (relative file path)\n",
    "def load_context_chunk_from_data(id_path):\n",
    "    with open(id_path, \"r\") as f: # Open file in read mode\n",
    "        return f.read()\n",
    "    \n",
    "## Clean up output and display full file\n",
    "for i in range(len(results['ids'][0])):\n",
    "    file_path = results['ids'][0][i]\n",
    "    classification = results['metadatas'][0][i]['classification']\n",
    "    document = results['documents'][0][i]\n",
    "    \n",
    "    print(\"------------- RESULT \" + str(i+1) + \" ----------------\\n\")\n",
    "    print(f\"FILE PATH: {file_path}\")\n",
    "    print(f\"CLASSIFICATION: {classification}\")\n",
    "    print(f\"DOCUMENT: {document}\\n\")\n",
    "    print(f\"FULL DOCUMENT (FROM FILE): {load_context_chunk_from_data(file_path)}\\n\")\n"
   ]
  },
  {
   "cell_type": "code",
   "execution_count": null,
   "id": "a07d1bc4-8af6-470c-98b5-f65de15816e2",
   "metadata": {},
   "outputs": [],
   "source": []
  }
 ],
 "metadata": {
  "kernelspec": {
   "display_name": "Python 3 (ipykernel)",
   "language": "python",
   "name": "python3"
  },
  "language_info": {
   "codemirror_mode": {
    "name": "ipython",
    "version": 3
   },
   "file_extension": ".py",
   "mimetype": "text/x-python",
   "name": "python",
   "nbconvert_exporter": "python",
   "pygments_lexer": "ipython3",
   "version": "3.10.13"
  }
 },
 "nbformat": 4,
 "nbformat_minor": 5
}
